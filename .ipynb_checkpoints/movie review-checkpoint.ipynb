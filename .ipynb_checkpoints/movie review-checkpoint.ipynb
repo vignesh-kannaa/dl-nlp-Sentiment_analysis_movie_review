{
 "cells": [
  {
   "cell_type": "code",
   "execution_count": 31,
   "id": "d54d2456",
   "metadata": {
    "executionInfo": {
     "elapsed": 226,
     "status": "ok",
     "timestamp": 1675776297935,
     "user": {
      "displayName": "vignesh kannaa",
      "userId": "01064752481468640964"
     },
     "user_tz": 0
    },
    "id": "d54d2456"
   },
   "outputs": [],
   "source": [
    "# !pip install tensorflow_hub\n",
    "# !pip install tensorflow\n",
    "# !pip install tensorflow_text"
   ]
  },
  {
   "cell_type": "code",
   "execution_count": 32,
   "id": "YxumZy3j9W-9",
   "metadata": {
    "executionInfo": {
     "elapsed": 2,
     "status": "ok",
     "timestamp": 1675776298212,
     "user": {
      "displayName": "vignesh kannaa",
      "userId": "01064752481468640964"
     },
     "user_tz": 0
    },
    "id": "YxumZy3j9W-9"
   },
   "outputs": [],
   "source": [
    "# !pip install tensorflow_text==2.9.*"
   ]
  },
  {
   "cell_type": "code",
   "execution_count": 1,
   "id": "840adcb5",
   "metadata": {
    "executionInfo": {
     "elapsed": 501,
     "status": "ok",
     "timestamp": 1675776122790,
     "user": {
      "displayName": "vignesh kannaa",
      "userId": "01064752481468640964"
     },
     "user_tz": 0
    },
    "id": "840adcb5"
   },
   "outputs": [],
   "source": [
    "import os\n",
    "import shutil\n",
    "import tensorflow as tf\n",
    "import tensorflow_hub as hub\n",
    "import tensorflow_text as text #should be same as tensorflow version\n",
    "import matplotlib.pyplot as plt\n",
    "from sklearn.metrics.pairwise import cosine_similarity\n",
    "import numpy as np"
   ]
  },
  {
   "cell_type": "markdown",
   "id": "68e6c9f4",
   "metadata": {
    "id": "68e6c9f4"
   },
   "source": [
    "#### loading movie dataset from standford"
   ]
  },
  {
   "cell_type": "code",
   "execution_count": 2,
   "id": "17fb80ab",
   "metadata": {
    "colab": {
     "base_uri": "https://localhost:8080/"
    },
    "executionInfo": {
     "elapsed": 65106,
     "status": "ok",
     "timestamp": 1675775204332,
     "user": {
      "displayName": "vignesh kannaa",
      "userId": "01064752481468640964"
     },
     "user_tz": 0
    },
    "id": "17fb80ab",
    "outputId": "6d016f1d-8aac-4229-ad2f-6697ec15cc45"
   },
   "outputs": [
    {
     "name": "stdout",
     "output_type": "stream",
     "text": [
      "Downloading data from https://ai.stanford.edu/~amaas/data/sentiment/aclImdb_v1.tar.gz\n",
      "84125825/84125825 [==============================] - 13s 0us/step\n"
     ]
    }
   ],
   "source": [
    "url = 'https://ai.stanford.edu/~amaas/data/sentiment/aclImdb_v1.tar.gz'\n",
    "\n",
    "dataset = tf.keras.utils.get_file('aclImdb_v1.tar.gz',\n",
    "                                  url,\n",
    "                                  extract=True,\n",
    "                                  cache_dir='.',\n",
    "                                  cache_subdir='')\n",
    "\n",
    "dataset_dir = os.path.join(os.path.dirname(dataset), 'aclImdb')\n",
    "train_dir = os.path.join(dataset_dir, 'train')\n",
    "# remove unused folders to make it easier to load the data\n",
    "remove_dir = os.path.join(train_dir, 'unsup')\n",
    "shutil.rmtree(remove_dir)"
   ]
  },
  {
   "cell_type": "code",
   "execution_count": 3,
   "id": "c4803166",
   "metadata": {
    "colab": {
     "base_uri": "https://localhost:8080/"
    },
    "executionInfo": {
     "elapsed": 4260,
     "status": "ok",
     "timestamp": 1675775204333,
     "user": {
      "displayName": "vignesh kannaa",
      "userId": "01064752481468640964"
     },
     "user_tz": 0
    },
    "id": "c4803166",
    "outputId": "d064d223-6d45-4d24-f64e-450b7d319081"
   },
   "outputs": [
    {
     "name": "stdout",
     "output_type": "stream",
     "text": [
      "Found 25000 files belonging to 2 classes.\n",
      "Using 20000 files for training.\n",
      "Found 25000 files belonging to 2 classes.\n",
      "Using 5000 files for validation.\n",
      "Found 25000 files belonging to 2 classes.\n"
     ]
    }
   ],
   "source": [
    "# autotune helps in increasing the performance by load the data efficiently in the cpu\n",
    "AUTOTUNE = tf.data.AUTOTUNE\n",
    "batch_size = 32\n",
    "seed = 42\n",
    "\n",
    "raw_train_ds = tf.keras.utils.text_dataset_from_directory(\n",
    "                                                        'aclImdb/train',\n",
    "                                                        batch_size=batch_size,\n",
    "                                                        validation_split=0.2,\n",
    "                                                        subset='training',\n",
    "                                                        seed=seed)\n",
    "\n",
    "class_names = raw_train_ds.class_names\n",
    "train_ds = raw_train_ds.cache().prefetch(buffer_size=AUTOTUNE)\n",
    "\n",
    "val_ds = tf.keras.utils.text_dataset_from_directory(\n",
    "                                                    'aclImdb/train',\n",
    "                                                    batch_size=batch_size,\n",
    "                                                    validation_split=0.2,\n",
    "                                                    subset='validation',\n",
    "                                                    seed=seed)\n",
    "\n",
    "val_ds = val_ds.cache().prefetch(buffer_size=AUTOTUNE)\n",
    "\n",
    "test_ds = tf.keras.utils.text_dataset_from_directory(\n",
    "                                                    'aclImdb/test',\n",
    "                                                    batch_size=batch_size)\n",
    "\n",
    "test_ds = test_ds.cache().prefetch(buffer_size=AUTOTUNE)"
   ]
  },
  {
   "cell_type": "code",
   "execution_count": 4,
   "id": "8536a114",
   "metadata": {
    "colab": {
     "base_uri": "https://localhost:8080/"
    },
    "executionInfo": {
     "elapsed": 34,
     "status": "ok",
     "timestamp": 1675775204333,
     "user": {
      "displayName": "vignesh kannaa",
      "userId": "01064752481468640964"
     },
     "user_tz": 0
    },
    "id": "8536a114",
    "outputId": "a4a3700b-ed4a-42d2-cf15-730cf296a1b1"
   },
   "outputs": [
    {
     "name": "stdout",
     "output_type": "stream",
     "text": [
      "Review: b'\"Pandemonium\" is a horror movie spoof that comes off more stupid than funny. Believe me when I tell you, I love comedies. Especially comedy spoofs. \"Airplane\", \"The Naked Gun\" trilogy, \"Blazing Saddles\", \"High Anxiety\", and \"Spaceballs\" are some of my favorite comedies that spoof a particular genre. \"Pandemonium\" is not up there with those films. Most of the scenes in this movie had me sitting there in stunned silence because the movie wasn\\'t all that funny. There are a few laughs in the film, but when you watch a comedy, you expect to laugh a lot more than a few times and that\\'s all this film has going for it. Geez, \"Scream\" had more laughs than this film and that was more of a horror film. How bizarre is that?<br /><br />*1/2 (out of four)'\n",
      "Label : 0 (neg)\n"
     ]
    }
   ],
   "source": [
    "for text_batch, label_batch in train_ds.take(1):\n",
    "    print(f'Review: {text_batch.numpy()[0]}')\n",
    "    label = label_batch.numpy()[0]\n",
    "    print(f'Label : {label} ({class_names[label]})')\n",
    "    break"
   ]
  },
  {
   "cell_type": "markdown",
   "id": "932cd363",
   "metadata": {
    "id": "932cd363"
   },
   "source": [
    "#### there are many bert models available, choosing based on use case<br> the bert model is a trained model by google"
   ]
  },
  {
   "cell_type": "markdown",
   "id": "f9999f4a",
   "metadata": {
    "id": "f9999f4a"
   },
   "source": [
    "#### bert requires two steps<br>one is preprocessing the text where it converts text to number<br> another is encoder where the converted text is processed"
   ]
  },
  {
   "cell_type": "code",
   "execution_count": null,
   "id": "aaceb222",
   "metadata": {
    "executionInfo": {
     "elapsed": 750,
     "status": "ok",
     "timestamp": 1675775205059,
     "user": {
      "displayName": "vignesh kannaa",
      "userId": "01064752481468640964"
     },
     "user_tz": 0
    },
    "id": "aaceb222"
   },
   "outputs": [
    {
     "name": "stdout",
     "output_type": "stream",
     "text": [
      "WARNING:tensorflow:Please fix your imports. Module tensorflow.python.training.tracking.data_structures has been moved to tensorflow.python.trackable.data_structures. The old module will be deleted in version 2.11.\n"
     ]
    }
   ],
   "source": [
    "bert_preprocess = hub.KerasLayer(\"https://tfhub.dev/tensorflow/bert_en_uncased_preprocess/3\")\n",
    "bert_encoder = hub.KerasLayer(\"https://tfhub.dev/tensorflow/small_bert/bert_en_uncased_L-4_H-512_A-8/1\")"
   ]
  },
  {
   "cell_type": "code",
   "execution_count": null,
   "id": "bb7b2318",
   "metadata": {
    "colab": {
     "base_uri": "https://localhost:8080/"
    },
    "executionInfo": {
     "elapsed": 377,
     "status": "ok",
     "timestamp": 1675775205060,
     "user": {
      "displayName": "vignesh kannaa",
      "userId": "01064752481468640964"
     },
     "user_tz": 0
    },
    "id": "bb7b2318",
    "outputId": "d6f64e78-663c-4aa5-9236-da8377744c05"
   },
   "outputs": [],
   "source": [
    "def get_sentence_embeding(sentences):\n",
    "    preprocessed_text = bert_preprocess(sentences)\n",
    "    return bert_encoder(preprocessed_text)['pooled_output']\n",
    "get_sentence_embeding([\n",
    "    \"500$ discount. hurry up\", \n",
    "    \"Bhavin, are you up for a volleybal game tomorrow?\"]\n",
    ")"
   ]
  },
  {
   "cell_type": "code",
   "execution_count": 16,
   "id": "b03e215c",
   "metadata": {
    "colab": {
     "base_uri": "https://localhost:8080/"
    },
    "executionInfo": {
     "elapsed": 374,
     "status": "ok",
     "timestamp": 1675775205060,
     "user": {
      "displayName": "vignesh kannaa",
      "userId": "01064752481468640964"
     },
     "user_tz": 0
    },
    "id": "b03e215c",
    "outputId": "9ceb734d-a47b-4f51-f927-0bd2ab0d77a4"
   },
   "outputs": [
    {
     "name": "stdout",
     "output_type": "stream",
     "text": [
      "[[0.8987519]]\n",
      "[[0.8292004]]\n"
     ]
    }
   ],
   "source": [
    "e = get_sentence_embeding([\n",
    "    \"banana\", \n",
    "    \"grapes\",\n",
    "    \"mango\",\n",
    "    \"jeff bezos\",\n",
    "    \"elon musk\",\n",
    "    \"bill gates\"\n",
    "]\n",
    ")\n",
    "\n",
    "print(cosine_similarity([e[0]],[e[1]]))\n",
    "print(cosine_similarity([e[0]],[e[3]]))"
   ]
  },
  {
   "cell_type": "markdown",
   "id": "43ef62ed",
   "metadata": {
    "id": "43ef62ed"
   },
   "source": [
    "##### Building bert model using functional model"
   ]
  },
  {
   "cell_type": "code",
   "execution_count": 17,
   "id": "dd067177",
   "metadata": {
    "executionInfo": {
     "elapsed": 362,
     "status": "ok",
     "timestamp": 1675775205061,
     "user": {
      "displayName": "vignesh kannaa",
      "userId": "01064752481468640964"
     },
     "user_tz": 0
    },
    "id": "dd067177"
   },
   "outputs": [],
   "source": [
    "# Bert layers\n",
    "text_input = tf.keras.layers.Input(shape=(), dtype=tf.string, name='text')\n",
    "preprocessed_text = bert_preprocess(text_input)\n",
    "outputs = bert_encoder(preprocessed_text)\n",
    "\n",
    "# Neural network layers\n",
    "l = tf.keras.layers.Dropout(0.1, name=\"dropout\")(outputs['pooled_output'])\n",
    "l = tf.keras.layers.Dense(1, activation='sigmoid', name=\"output\")(l)\n",
    "\n",
    "# Use inputs and outputs to construct a final model\n",
    "model = tf.keras.Model(inputs=[text_input], outputs = [l])"
   ]
  },
  {
   "cell_type": "code",
   "execution_count": 18,
   "id": "e1adbc2c",
   "metadata": {
    "colab": {
     "base_uri": "https://localhost:8080/"
    },
    "executionInfo": {
     "elapsed": 361,
     "status": "ok",
     "timestamp": 1675775205062,
     "user": {
      "displayName": "vignesh kannaa",
      "userId": "01064752481468640964"
     },
     "user_tz": 0
    },
    "id": "e1adbc2c",
    "outputId": "da9bdf4c-5135-4f60-d18f-0ebf130042c8"
   },
   "outputs": [
    {
     "name": "stdout",
     "output_type": "stream",
     "text": [
      "Model: \"model\"\n",
      "__________________________________________________________________________________________________\n",
      " Layer (type)                   Output Shape         Param #     Connected to                     \n",
      "==================================================================================================\n",
      " text (InputLayer)              [(None,)]            0           []                               \n",
      "                                                                                                  \n",
      " keras_layer (KerasLayer)       {'input_word_ids':   0           ['text[0][0]']                   \n",
      "                                (None, 128),                                                      \n",
      "                                 'input_mask': (Non                                               \n",
      "                                e, 128),                                                          \n",
      "                                 'input_type_ids':                                                \n",
      "                                (None, 128)}                                                      \n",
      "                                                                                                  \n",
      " keras_layer_1 (KerasLayer)     {'sequence_output':  28763649    ['keras_layer[0][0]',            \n",
      "                                 (None, 128, 512),                'keras_layer[0][1]',            \n",
      "                                 'default': (None,                'keras_layer[0][2]']            \n",
      "                                512),                                                             \n",
      "                                 'pooled_output': (                                               \n",
      "                                None, 512),                                                       \n",
      "                                 'encoder_outputs':                                               \n",
      "                                 [(None, 128, 512),                                               \n",
      "                                 (None, 128, 512),                                                \n",
      "                                 (None, 128, 512),                                                \n",
      "                                 (None, 128, 512)]}                                               \n",
      "                                                                                                  \n",
      " dropout (Dropout)              (None, 512)          0           ['keras_layer_1[0][5]']          \n",
      "                                                                                                  \n",
      " output (Dense)                 (None, 1)            513         ['dropout[0][0]']                \n",
      "                                                                                                  \n",
      "==================================================================================================\n",
      "Total params: 28,764,162\n",
      "Trainable params: 513\n",
      "Non-trainable params: 28,763,649\n",
      "__________________________________________________________________________________________________\n"
     ]
    }
   ],
   "source": [
    "model.summary()"
   ]
  },
  {
   "cell_type": "code",
   "execution_count": 19,
   "id": "32be32fb",
   "metadata": {
    "executionInfo": {
     "elapsed": 249,
     "status": "ok",
     "timestamp": 1675775205063,
     "user": {
      "displayName": "vignesh kannaa",
      "userId": "01064752481468640964"
     },
     "user_tz": 0
    },
    "id": "32be32fb"
   },
   "outputs": [],
   "source": [
    "# METRICS = [\n",
    "#       tf.keras.metrics.BinaryAccuracy(name='accuracy'),\n",
    "#       tf.keras.metrics.Precision(name='precision'),\n",
    "#       tf.keras.metrics.Recall(name='recall')\n",
    "# ]\n",
    "\n",
    "model.compile(optimizer='adam',\n",
    "              loss='binary_crossentropy',\n",
    "              metrics=tf.keras.metrics.BinaryAccuracy(name='accuracy'))"
   ]
  },
  {
   "cell_type": "code",
   "execution_count": 20,
   "id": "a06108c3",
   "metadata": {
    "colab": {
     "base_uri": "https://localhost:8080/"
    },
    "executionInfo": {
     "elapsed": 574352,
     "status": "ok",
     "timestamp": 1675775779167,
     "user": {
      "displayName": "vignesh kannaa",
      "userId": "01064752481468640964"
     },
     "user_tz": 0
    },
    "id": "a06108c3",
    "outputId": "bd9b144c-8513-4935-b031-386a348bdf82"
   },
   "outputs": [
    {
     "name": "stdout",
     "output_type": "stream",
     "text": [
      "Epoch 1/5\n",
      "625/625 [==============================] - 112s 174ms/step - loss: 0.5953 - accuracy: 0.6805 - val_loss: 0.5386 - val_accuracy: 0.7382\n",
      "Epoch 2/5\n",
      "625/625 [==============================] - 100s 160ms/step - loss: 0.5442 - accuracy: 0.7282 - val_loss: 0.5226 - val_accuracy: 0.7436\n",
      "Epoch 3/5\n",
      "625/625 [==============================] - 101s 161ms/step - loss: 0.5316 - accuracy: 0.7322 - val_loss: 0.5178 - val_accuracy: 0.7460\n",
      "Epoch 4/5\n",
      "625/625 [==============================] - 100s 160ms/step - loss: 0.5281 - accuracy: 0.7384 - val_loss: 0.5137 - val_accuracy: 0.7486\n",
      "Epoch 5/5\n",
      "625/625 [==============================] - 99s 159ms/step - loss: 0.5237 - accuracy: 0.7393 - val_loss: 0.5114 - val_accuracy: 0.7484\n"
     ]
    },
    {
     "data": {
      "text/plain": [
       "<keras.callbacks.History at 0x7f97842c7a90>"
      ]
     },
     "execution_count": 20,
     "metadata": {},
     "output_type": "execute_result"
    }
   ],
   "source": [
    "model.fit(x=train_ds,validation_data=val_ds,epochs=5)"
   ]
  },
  {
   "cell_type": "code",
   "execution_count": 22,
   "id": "fa166ce9",
   "metadata": {
    "colab": {
     "base_uri": "https://localhost:8080/"
    },
    "executionInfo": {
     "elapsed": 101808,
     "status": "ok",
     "timestamp": 1675775890438,
     "user": {
      "displayName": "vignesh kannaa",
      "userId": "01064752481468640964"
     },
     "user_tz": 0
    },
    "id": "fa166ce9",
    "outputId": "0d379364-32d1-4bc5-d39e-462b6413d2b4"
   },
   "outputs": [
    {
     "name": "stdout",
     "output_type": "stream",
     "text": [
      "782/782 [==============================] - 102s 130ms/step - loss: 0.5152 - accuracy: 0.7485\n",
      "Loss: 0.5151515007019043\n",
      "Accuracy: 0.748520016670227\n"
     ]
    }
   ],
   "source": [
    "loss, accuracy = model.evaluate(test_ds)\n",
    "print(f'Loss: {loss}')\n",
    "print(f'Accuracy: {accuracy}')"
   ]
  },
  {
   "cell_type": "markdown",
   "id": "0eca96d0",
   "metadata": {
    "id": "0eca96d0"
   },
   "source": [
    "#### testing with custom data"
   ]
  },
  {
   "cell_type": "code",
   "execution_count": 30,
   "id": "447a65c1",
   "metadata": {
    "colab": {
     "base_uri": "https://localhost:8080/"
    },
    "executionInfo": {
     "elapsed": 194,
     "status": "ok",
     "timestamp": 1675776259156,
     "user": {
      "displayName": "vignesh kannaa",
      "userId": "01064752481468640964"
     },
     "user_tz": 0
    },
    "id": "447a65c1",
    "outputId": "31ecba4f-fe76-4ccd-c097-b10b4b640213"
   },
   "outputs": [
    {
     "name": "stdout",
     "output_type": "stream",
     "text": [
      "1/1 [==============================] - 0s 53ms/step\n",
      "[['Good']\n",
      " ['Bad']\n",
      " ['Bad']\n",
      " ['Good']\n",
      " ['Good']]\n"
     ]
    }
   ],
   "source": [
    "reviews = [\n",
    "    'this is such an amazing movie!',\n",
    "    'The movie was Terible!',\n",
    "    'The movie was meh.',\n",
    "    'The movie was okish.',\n",
    "    'The movie was nice...'\n",
    "]\n",
    "predicted=model.predict(reviews)\n",
    "result = np.where(predicted > 0.5, 'Good', 'Bad')\n",
    "print(result)"
   ]
  },
  {
   "cell_type": "code",
   "execution_count": null,
   "id": "kD80nv47BzN_",
   "metadata": {
    "id": "kD80nv47BzN_"
   },
   "outputs": [],
   "source": []
  }
 ],
 "metadata": {
  "accelerator": "GPU",
  "colab": {
   "provenance": []
  },
  "gpuClass": "standard",
  "kernelspec": {
   "display_name": "Python 3 (ipykernel)",
   "language": "python",
   "name": "python3"
  },
  "language_info": {
   "codemirror_mode": {
    "name": "ipython",
    "version": 3
   },
   "file_extension": ".py",
   "mimetype": "text/x-python",
   "name": "python",
   "nbconvert_exporter": "python",
   "pygments_lexer": "ipython3",
   "version": "3.10.8"
  }
 },
 "nbformat": 4,
 "nbformat_minor": 5
}
